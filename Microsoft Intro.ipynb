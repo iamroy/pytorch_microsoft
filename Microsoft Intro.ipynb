{
 "cells": [
  {
   "cell_type": "code",
   "execution_count": 2,
   "id": "cutting-canadian",
   "metadata": {},
   "outputs": [],
   "source": [
    "%matplotlib inline\n",
    "import torch\n",
    "import numpy as np"
   ]
  },
  {
   "cell_type": "code",
   "execution_count": 3,
   "id": "specified-rachel",
   "metadata": {},
   "outputs": [],
   "source": [
    "data = [[1,2],[3,4]]\n",
    "x_data = torch.tensor(data)"
   ]
  },
  {
   "cell_type": "code",
   "execution_count": 4,
   "id": "parallel-prompt",
   "metadata": {},
   "outputs": [],
   "source": [
    "np_array = np.array(data)\n",
    "x_np = torch.from_numpy(np_array)"
   ]
  },
  {
   "cell_type": "code",
   "execution_count": 5,
   "id": "golden-newcastle",
   "metadata": {},
   "outputs": [
    {
     "name": "stdout",
     "output_type": "stream",
     "text": [
      "Numpy np_array value: \n",
      " [[1 2]\n",
      " [3 4]] \n",
      "\n",
      "Tensor x_np value: \n",
      " tensor([[1, 2],\n",
      "        [3, 4]], dtype=torch.int32) \n",
      "\n",
      "Numpy np_array after * 2 operation: \n",
      " [[2 4]\n",
      " [6 8]] \n",
      "\n",
      "Tensor x_np value after modifying numpy array: \n",
      " tensor([[2, 4],\n",
      "        [6, 8]], dtype=torch.int32) \n",
      "\n"
     ]
    }
   ],
   "source": [
    "print(f\"Numpy np_array value: \\n {np_array} \\n\")\n",
    "print(f\"Tensor x_np value: \\n {x_np} \\n\")\n",
    "\n",
    "np.multiply(np_array, 2, out=np_array)\n",
    "\n",
    "print(f\"Numpy np_array after * 2 operation: \\n {np_array} \\n\")\n",
    "print(f\"Tensor x_np value after modifying numpy array: \\n {x_np} \\n\")"
   ]
  },
  {
   "cell_type": "code",
   "execution_count": 6,
   "id": "great-hawaiian",
   "metadata": {},
   "outputs": [
    {
     "name": "stdout",
     "output_type": "stream",
     "text": [
      "Ones Tensor: \n",
      " tensor([[1, 1],\n",
      "        [1, 1]]) \n",
      "\n",
      "Random Tensor: \n",
      " tensor([[0.5074, 0.0515],\n",
      "        [0.9360, 0.3861]]) \n",
      "\n"
     ]
    }
   ],
   "source": [
    "x_ones = torch.ones_like(x_data) # retains the properties of x_data\n",
    "print(f\"Ones Tensor: \\n {x_ones} \\n\")\n",
    "\n",
    "x_rand = torch.rand_like(x_data, dtype=torch.float) # overrides the datatype of x_data\n",
    "print(f\"Random Tensor: \\n {x_rand} \\n\")"
   ]
  },
  {
   "cell_type": "code",
   "execution_count": 7,
   "id": "relevant-entertainment",
   "metadata": {},
   "outputs": [
    {
     "name": "stdout",
     "output_type": "stream",
     "text": [
      "Random Tensor: \n",
      " tensor([[0.8198, 0.0554, 0.6347],\n",
      "        [0.6472, 0.3047, 0.2173]]) \n",
      "\n",
      "Ones Tensor: \n",
      " tensor([[1., 1., 1.],\n",
      "        [1., 1., 1.]]) \n",
      "\n",
      "Zeros Tensor: \n",
      " tensor([[0., 0., 0.],\n",
      "        [0., 0., 0.]])\n"
     ]
    }
   ],
   "source": [
    "shape = (2,3,)\n",
    "rand_tensor = torch.rand(shape)\n",
    "ones_tensor = torch.ones(shape)\n",
    "zeros_tensor = torch.zeros(shape)\n",
    "\n",
    "print(f\"Random Tensor: \\n {rand_tensor} \\n\")\n",
    "print(f\"Ones Tensor: \\n {ones_tensor} \\n\")\n",
    "print(f\"Zeros Tensor: \\n {zeros_tensor}\")"
   ]
  },
  {
   "cell_type": "code",
   "execution_count": 8,
   "id": "associate-script",
   "metadata": {},
   "outputs": [
    {
     "name": "stdout",
     "output_type": "stream",
     "text": [
      "Shape of tensor: torch.Size([3, 4])\n",
      "Datatype of tensor: torch.float32\n",
      "Device tensor is stored on: cpu\n"
     ]
    }
   ],
   "source": [
    "tensor = torch.rand(3,4)\n",
    "\n",
    "print(f\"Shape of tensor: {tensor.shape}\")\n",
    "print(f\"Datatype of tensor: {tensor.dtype}\")\n",
    "print(f\"Device tensor is stored on: {tensor.device}\")"
   ]
  },
  {
   "cell_type": "code",
   "execution_count": 9,
   "id": "humanitarian-firewall",
   "metadata": {},
   "outputs": [],
   "source": [
    "# We move our tensor to the GPU if available\n",
    "if torch.cuda.is_available():\n",
    "  tensor = tensor.to('cuda')"
   ]
  },
  {
   "cell_type": "code",
   "execution_count": 10,
   "id": "noticed-volume",
   "metadata": {},
   "outputs": [
    {
     "name": "stdout",
     "output_type": "stream",
     "text": [
      "First row:  tensor([1., 1., 1., 1.])\n",
      "First column:  tensor([1., 1., 1., 1.])\n",
      "Last column: tensor([1., 1., 1., 1.])\n",
      "tensor([[1., 5., 1., 1.],\n",
      "        [1., 5., 1., 1.],\n",
      "        [1., 5., 1., 1.],\n",
      "        [1., 5., 1., 1.]])\n"
     ]
    }
   ],
   "source": [
    "tensor = torch.ones(4, 4)\n",
    "print('First row: ',tensor[0])\n",
    "print('First column: ', tensor[:, 0])\n",
    "print('Last column:', tensor[..., -1])\n",
    "tensor[:,1] = 5\n",
    "print(tensor)"
   ]
  },
  {
   "cell_type": "code",
   "execution_count": 11,
   "id": "offensive-vintage",
   "metadata": {},
   "outputs": [
    {
     "name": "stdout",
     "output_type": "stream",
     "text": [
      "tensor([[1., 5., 1., 1., 1., 5., 1., 1., 1., 5., 1., 1.],\n",
      "        [1., 5., 1., 1., 1., 5., 1., 1., 1., 5., 1., 1.],\n",
      "        [1., 5., 1., 1., 1., 5., 1., 1., 1., 5., 1., 1.],\n",
      "        [1., 5., 1., 1., 1., 5., 1., 1., 1., 5., 1., 1.]])\n"
     ]
    }
   ],
   "source": [
    "t1 = torch.cat([tensor, tensor, tensor], dim=1)\n",
    "print(t1)"
   ]
  },
  {
   "cell_type": "code",
   "execution_count": 12,
   "id": "silent-lottery",
   "metadata": {},
   "outputs": [
    {
     "data": {
      "text/plain": [
       "tensor([[28., 28., 28., 28.],\n",
       "        [28., 28., 28., 28.],\n",
       "        [28., 28., 28., 28.],\n",
       "        [28., 28., 28., 28.]])"
      ]
     },
     "execution_count": 12,
     "metadata": {},
     "output_type": "execute_result"
    }
   ],
   "source": [
    "# This computes the matrix multiplication between two tensors. y1, y2, y3 will have the same value\n",
    "y1 = tensor @ tensor.T\n",
    "y2 = tensor.matmul(tensor.T)\n",
    "\n",
    "y3 = torch.rand_like(tensor)\n",
    "torch.matmul(tensor, tensor.T, out=y3)"
   ]
  },
  {
   "cell_type": "code",
   "execution_count": 13,
   "id": "economic-photograph",
   "metadata": {},
   "outputs": [
    {
     "data": {
      "text/plain": [
       "tensor([[28., 28., 28., 28.],\n",
       "        [28., 28., 28., 28.],\n",
       "        [28., 28., 28., 28.],\n",
       "        [28., 28., 28., 28.]])"
      ]
     },
     "execution_count": 13,
     "metadata": {},
     "output_type": "execute_result"
    }
   ],
   "source": [
    "y1"
   ]
  },
  {
   "cell_type": "code",
   "execution_count": 14,
   "id": "frequent-diesel",
   "metadata": {},
   "outputs": [
    {
     "data": {
      "text/plain": [
       "tensor([[28., 28., 28., 28.],\n",
       "        [28., 28., 28., 28.],\n",
       "        [28., 28., 28., 28.],\n",
       "        [28., 28., 28., 28.]])"
      ]
     },
     "execution_count": 14,
     "metadata": {},
     "output_type": "execute_result"
    }
   ],
   "source": [
    "y2"
   ]
  },
  {
   "cell_type": "code",
   "execution_count": 15,
   "id": "bearing-problem",
   "metadata": {},
   "outputs": [
    {
     "data": {
      "text/plain": [
       "tensor([[28., 28., 28., 28.],\n",
       "        [28., 28., 28., 28.],\n",
       "        [28., 28., 28., 28.],\n",
       "        [28., 28., 28., 28.]])"
      ]
     },
     "execution_count": 15,
     "metadata": {},
     "output_type": "execute_result"
    }
   ],
   "source": [
    "y3"
   ]
  },
  {
   "cell_type": "code",
   "execution_count": 16,
   "id": "polish-rough",
   "metadata": {},
   "outputs": [
    {
     "data": {
      "text/plain": [
       "tensor([[ 1., 25.,  1.,  1.],\n",
       "        [ 1., 25.,  1.,  1.],\n",
       "        [ 1., 25.,  1.,  1.],\n",
       "        [ 1., 25.,  1.,  1.]])"
      ]
     },
     "execution_count": 16,
     "metadata": {},
     "output_type": "execute_result"
    }
   ],
   "source": [
    "# This computes the element-wise product. z1, z2, z3 will have the same value\n",
    "z1 = tensor * tensor\n",
    "z2 = tensor.mul(tensor)\n",
    "\n",
    "z3 = torch.rand_like(tensor)\n",
    "torch.mul(tensor, tensor, out=z3)"
   ]
  },
  {
   "cell_type": "code",
   "execution_count": 17,
   "id": "abandoned-peeing",
   "metadata": {},
   "outputs": [
    {
     "name": "stdout",
     "output_type": "stream",
     "text": [
      "32.0 <class 'float'>\n"
     ]
    }
   ],
   "source": [
    "agg = tensor.sum()\n",
    "agg_item = agg.item()  \n",
    "print(agg_item, type(agg_item))"
   ]
  },
  {
   "cell_type": "code",
   "execution_count": 18,
   "id": "absent-wrist",
   "metadata": {},
   "outputs": [
    {
     "name": "stdout",
     "output_type": "stream",
     "text": [
      "tensor([[1., 5., 1., 1.],\n",
      "        [1., 5., 1., 1.],\n",
      "        [1., 5., 1., 1.],\n",
      "        [1., 5., 1., 1.]]) \n",
      "\n",
      "tensor([[ 6., 10.,  6.,  6.],\n",
      "        [ 6., 10.,  6.,  6.],\n",
      "        [ 6., 10.,  6.,  6.],\n",
      "        [ 6., 10.,  6.,  6.]])\n"
     ]
    }
   ],
   "source": [
    "print(tensor, \"\\n\")\n",
    "tensor.add_(5)\n",
    "print(tensor)"
   ]
  },
  {
   "cell_type": "code",
   "execution_count": 19,
   "id": "reported-holder",
   "metadata": {},
   "outputs": [
    {
     "name": "stdout",
     "output_type": "stream",
     "text": [
      "t: tensor([1., 1., 1., 1., 1.])\n",
      "n: [1. 1. 1. 1. 1.]\n"
     ]
    }
   ],
   "source": [
    "t = torch.ones(5)\n",
    "print(f\"t: {t}\")\n",
    "n = t.numpy()\n",
    "print(f\"n: {n}\")"
   ]
  },
  {
   "cell_type": "code",
   "execution_count": 20,
   "id": "saving-survival",
   "metadata": {},
   "outputs": [
    {
     "name": "stdout",
     "output_type": "stream",
     "text": [
      "t: tensor([2., 2., 2., 2., 2.])\n",
      "n: [2. 2. 2. 2. 2.]\n"
     ]
    }
   ],
   "source": [
    "t.add_(1)\n",
    "print(f\"t: {t}\")\n",
    "print(f\"n: {n}\")"
   ]
  },
  {
   "cell_type": "code",
   "execution_count": 21,
   "id": "republican-momentum",
   "metadata": {},
   "outputs": [],
   "source": [
    "n = np.ones(5)\n",
    "t = torch.from_numpy(n)"
   ]
  },
  {
   "cell_type": "code",
   "execution_count": 22,
   "id": "tribal-laundry",
   "metadata": {},
   "outputs": [
    {
     "name": "stdout",
     "output_type": "stream",
     "text": [
      "t: tensor([2., 2., 2., 2., 2.], dtype=torch.float64)\n",
      "n: [2. 2. 2. 2. 2.]\n"
     ]
    }
   ],
   "source": [
    "np.add(n, 1, out=n)\n",
    "print(f\"t: {t}\")\n",
    "print(f\"n: {n}\")"
   ]
  },
  {
   "cell_type": "code",
   "execution_count": 23,
   "id": "induced-wiring",
   "metadata": {},
   "outputs": [],
   "source": [
    "#Datasets and Dataloaders"
   ]
  },
  {
   "cell_type": "code",
   "execution_count": 24,
   "id": "hispanic-intersection",
   "metadata": {},
   "outputs": [],
   "source": [
    "%matplotlib inline\n",
    "import torch\n",
    "from torch.utils.data import Dataset, DataLoader\n",
    "from torchvision import datasets\n",
    "from torchvision.transforms import ToTensor, Lambda\n",
    "import matplotlib.pyplot as plt\n",
    "import torch.nn.functional as F"
   ]
  },
  {
   "cell_type": "code",
   "execution_count": 25,
   "id": "existing-chile",
   "metadata": {},
   "outputs": [],
   "source": [
    "training_data = datasets.FashionMNIST(\n",
    "    root=\"data\",\n",
    "    train=True,\n",
    "    download=True,\n",
    "    transform=ToTensor()\n",
    ")"
   ]
  },
  {
   "cell_type": "code",
   "execution_count": 26,
   "id": "judicial-gnome",
   "metadata": {},
   "outputs": [],
   "source": [
    "test_data = datasets.FashionMNIST(\n",
    "    root=\"data\",\n",
    "    train=False,\n",
    "    download=True,\n",
    "    transform=ToTensor()\n",
    ")"
   ]
  },
  {
   "cell_type": "code",
   "execution_count": 27,
   "id": "congressional-spectrum",
   "metadata": {},
   "outputs": [
    {
     "data": {
      "image/png": "[encoded data removed]",
      "text/plain": [
       "<Figure size 576x576 with 9 Axes>"
      ]
     },
     "metadata": {
      "needs_background": "light"
     },
     "output_type": "display_data"
    }
   ],
   "source": [
    "labels_map = {\n",
    "    0: \"T-Shirt\",\n",
    "    1: \"Trouser\",\n",
    "    2: \"Pullover\",\n",
    "    3: \"Dress\",\n",
    "    4: \"Coat\",\n",
    "    5: \"Sandal\",\n",
    "    6: \"Shirt\",\n",
    "    7: \"Sneaker\",\n",
    "    8: \"Bag\",\n",
    "    9: \"Ankle Boot\",\n",
    "}\n",
    "figure = plt.figure(figsize=(8, 8))\n",
    "cols, rows = 3, 3\n",
    "for i in range(1, cols * rows + 1):\n",
    "    sample_idx = torch.randint(len(training_data), size=(1,)).item()\n",
    "    img, label = training_data[sample_idx]\n",
    "    figure.add_subplot(rows, cols, i)\n",
    "    plt.title(labels_map[label])\n",
    "    plt.axis(\"off\")\n",
    "    plt.imshow(img.squeeze(), cmap=\"gray\")\n",
    "plt.show()"
   ]
  },
  {
   "cell_type": "code",
   "execution_count": 28,
   "id": "distinguished-delaware",
   "metadata": {},
   "outputs": [],
   "source": [
    "train_dataloader = DataLoader(training_data, batch_size=64, shuffle=True)\n",
    "test_dataloader = DataLoader(test_data, batch_size=64, shuffle=True)"
   ]
  },
  {
   "cell_type": "code",
   "execution_count": 29,
   "id": "stunning-nashville",
   "metadata": {},
   "outputs": [
    {
     "name": "stdout",
     "output_type": "stream",
     "text": [
      "Feature batch shape: torch.Size([64, 1, 28, 28])\n",
      "Labels batch shape: torch.Size([64])\n"
     ]
    },
    {
     "data": {
      "image/png": "[encoded data removed]",
      "text/plain": [
       "<Figure size 432x288 with 1 Axes>"
      ]
     },
     "metadata": {
      "needs_background": "light"
     },
     "output_type": "display_data"
    },
    {
     "name": "stdout",
     "output_type": "stream",
     "text": [
      "Label: 3\n"
     ]
    }
   ],
   "source": [
    "# Display image and label.\n",
    "train_features, train_labels = next(iter(train_dataloader))\n",
    "print(f\"Feature batch shape: {train_features.size()}\")\n",
    "print(f\"Labels batch shape: {train_labels.size()}\")\n",
    "img = train_features[0].squeeze()\n",
    "label = train_labels[0]\n",
    "plt.imshow(img, cmap=\"gray\")\n",
    "plt.show()\n",
    "print(f\"Label: {label}\")"
   ]
  },
  {
   "cell_type": "code",
   "execution_count": 30,
   "id": "periodic-newton",
   "metadata": {},
   "outputs": [
    {
     "data": {
      "text/plain": [
       "tensor([[[0, 1, 0, 0, 0],\n",
       "         [0, 0, 1, 0, 0]],\n",
       "\n",
       "        [[0, 0, 0, 1, 0],\n",
       "         [0, 0, 0, 0, 1]]])"
      ]
     },
     "execution_count": 30,
     "metadata": {},
     "output_type": "execute_result"
    }
   ],
   "source": [
    "x = torch.tensor([\n",
    "    [1, 2],\n",
    "    [3, 4],\n",
    "])\n",
    "F.one_hot(x)"
   ]
  },
  {
   "cell_type": "code",
   "execution_count": 31,
   "id": "interested-welcome",
   "metadata": {},
   "outputs": [],
   "source": [
    "training_data = datasets.FashionMNIST(\n",
    "    root=\"data\",\n",
    "    train=True,\n",
    "    download=True,\n",
    "    transform=ToTensor(),\n",
    "    target_transform=Lambda(lambda y: F.one_hot(torch.tensor([y]), num_classes=10))\n",
    ")"
   ]
  },
  {
   "cell_type": "code",
   "execution_count": 32,
   "id": "b3bad101",
   "metadata": {},
   "outputs": [],
   "source": [
    "test_data = datasets.FashionMNIST(\n",
    "    root=\"data\",\n",
    "    train=False,\n",
    "    download=True,\n",
    "    transform=ToTensor(),\n",
    "    target_transform=Lambda(lambda y: F.one_hot(torch.tensor([y]), num_classes=10))\n",
    ")"
   ]
  },
  {
   "cell_type": "code",
   "execution_count": 33,
   "id": "0748dfa8",
   "metadata": {},
   "outputs": [],
   "source": [
    "#Build a neural network\n",
    "%matplotlib inline\n",
    "import os\n",
    "import torch\n",
    "from torch import nn\n",
    "from torch.utils.data import DataLoader\n",
    "from torchvision import datasets, transforms"
   ]
  },
  {
   "cell_type": "code",
   "execution_count": 34,
   "id": "5fdb99d0",
   "metadata": {},
   "outputs": [
    {
     "name": "stdout",
     "output_type": "stream",
     "text": [
      "Using cuda device\n"
     ]
    }
   ],
   "source": [
    "device = 'cuda' if torch.cuda.is_available() else 'cpu'\n",
    "print('Using {} device'.format(device))"
   ]
  },
  {
   "cell_type": "code",
   "execution_count": 35,
   "id": "a9655d9a",
   "metadata": {},
   "outputs": [],
   "source": [
    "class NeuralNetwork(nn.Module):\n",
    "    def __init__(self):\n",
    "        super(NeuralNetwork, self).__init__()\n",
    "        self.flatten = nn.Flatten()\n",
    "        self.linear_relu_stack = nn.Sequential(\n",
    "            nn.Linear(28*28, 512),\n",
    "            nn.ReLU(),\n",
    "            nn.Linear(512, 512),\n",
    "            nn.ReLU(),\n",
    "            nn.Linear(512, 10),\n",
    "            nn.ReLU()\n",
    "        )\n",
    "        \n",
    "    \n",
    "    def forward(self, x):\n",
    "        x = self.flatten(x)\n",
    "        logits = self.linear_relu_stack(x)\n",
    "        return logits\n",
    "            "
   ]
  },
  {
   "cell_type": "code",
   "execution_count": 36,
   "id": "0af25d63",
   "metadata": {},
   "outputs": [
    {
     "name": "stdout",
     "output_type": "stream",
     "text": [
      "NeuralNetwork(\n",
      "  (flatten): Flatten(start_dim=1, end_dim=-1)\n",
      "  (linear_relu_stack): Sequential(\n",
      "    (0): Linear(in_features=784, out_features=512, bias=True)\n",
      "    (1): ReLU()\n",
      "    (2): Linear(in_features=512, out_features=512, bias=True)\n",
      "    (3): ReLU()\n",
      "    (4): Linear(in_features=512, out_features=10, bias=True)\n",
      "    (5): ReLU()\n",
      "  )\n",
      ")\n"
     ]
    }
   ],
   "source": [
    "model = NeuralNetwork().to(device)\n",
    "print(model)"
   ]
  },
  {
   "cell_type": "code",
   "execution_count": 37,
   "id": "8b115a82",
   "metadata": {},
   "outputs": [
    {
     "name": "stdout",
     "output_type": "stream",
     "text": [
      "Predicted class: tensor([3], device='cuda:0')\n"
     ]
    }
   ],
   "source": [
    "X = torch.rand(1, 28, 28, device=device)\n",
    "logits = model(X) \n",
    "pred_probab = nn.Softmax(dim=1)(logits)\n",
    "y_pred = pred_probab.argmax(1)\n",
    "print(f\"Predicted class: {y_pred}\")"
   ]
  },
  {
   "cell_type": "code",
   "execution_count": 38,
   "id": "95ad605c",
   "metadata": {},
   "outputs": [
    {
     "name": "stdout",
     "output_type": "stream",
     "text": [
      "First Linear weights: Parameter containing:\n",
      "tensor([[-0.0077,  0.0283, -0.0236,  ...,  0.0285, -0.0278, -0.0303],\n",
      "        [-0.0014,  0.0211, -0.0294,  ...,  0.0066,  0.0041, -0.0140],\n",
      "        [ 0.0019,  0.0017, -0.0264,  ..., -0.0200,  0.0174, -0.0127],\n",
      "        ...,\n",
      "        [ 0.0290, -0.0077,  0.0341,  ...,  0.0308,  0.0133,  0.0004],\n",
      "        [-0.0052, -0.0145,  0.0027,  ..., -0.0039,  0.0188, -0.0138],\n",
      "        [-0.0030,  0.0138,  0.0111,  ...,  0.0248,  0.0326,  0.0334]],\n",
      "       device='cuda:0', requires_grad=True) \n",
      "\n",
      "First Linear weights: Parameter containing:\n",
      "tensor([ 1.9060e-02, -2.1529e-02,  2.4637e-03, -2.8223e-02, -1.3153e-02,\n",
      "         4.7784e-04,  1.8139e-02, -2.5339e-02,  1.2125e-02,  3.4413e-02,\n",
      "        -1.1779e-02, -1.7046e-02,  3.0447e-02, -3.2180e-02, -5.6521e-03,\n",
      "         3.1226e-02, -3.1531e-02,  2.7232e-02,  1.0623e-02,  2.5542e-02,\n",
      "         1.0168e-02,  8.4807e-03, -2.7977e-02,  2.9353e-02, -3.3734e-02,\n",
      "         1.6066e-02, -1.9017e-02, -2.9148e-02, -2.4007e-02, -2.9071e-02,\n",
      "         2.2834e-02, -1.6587e-02,  9.6319e-03,  2.7060e-02, -2.6336e-03,\n",
      "        -3.1375e-02,  6.9576e-04, -5.5331e-03, -2.5678e-02, -2.1490e-02,\n",
      "        -1.0427e-02,  3.2102e-02,  1.9017e-02,  2.8341e-02, -6.0412e-03,\n",
      "        -2.6650e-04,  2.6739e-02,  2.5062e-02,  2.7756e-02,  3.4537e-02,\n",
      "        -1.3124e-02,  2.0779e-02,  2.3042e-02, -3.4646e-02,  2.3394e-02,\n",
      "         1.6478e-02,  1.0526e-02, -1.6822e-02,  1.7474e-02,  2.6207e-02,\n",
      "        -3.0920e-02, -1.7224e-03,  2.6652e-02,  8.3176e-03,  1.4114e-03,\n",
      "         1.6801e-02, -5.9983e-03,  2.9830e-02, -1.7981e-02, -5.9466e-04,\n",
      "         2.9347e-02, -2.7640e-02, -2.2911e-02, -2.2905e-02, -1.2636e-02,\n",
      "         1.3784e-03,  1.1927e-02, -2.5814e-02, -2.0313e-02, -1.9422e-02,\n",
      "         5.5707e-03,  1.9804e-02, -3.1920e-02,  3.2862e-02,  1.8145e-02,\n",
      "         1.1458e-02,  3.4555e-02,  1.9333e-02, -2.3985e-02, -2.1430e-02,\n",
      "         2.0820e-02,  2.5763e-02,  2.1769e-02, -2.4762e-02, -3.9581e-03,\n",
      "        -3.5033e-02, -6.6889e-03, -1.2237e-02, -2.5172e-02,  2.6523e-02,\n",
      "        -2.6451e-02,  1.4860e-02, -2.8007e-02,  2.0498e-03,  1.1246e-02,\n",
      "         1.6513e-02,  1.7202e-02, -2.8973e-02, -3.1720e-02, -1.2305e-02,\n",
      "         6.6496e-06,  9.3516e-03,  1.1366e-02,  3.0596e-03,  2.6742e-02,\n",
      "         1.3994e-03, -8.5390e-03,  5.5392e-03,  8.5967e-03,  2.3418e-02,\n",
      "        -2.3392e-02,  1.0899e-02,  4.7595e-03, -1.2186e-02,  4.7100e-03,\n",
      "         1.6638e-02, -1.7633e-02, -3.1937e-02,  3.4280e-02, -1.8954e-02,\n",
      "        -9.5139e-03,  2.5454e-02,  9.1814e-03,  1.4342e-02,  1.8919e-02,\n",
      "         4.0081e-03,  4.4336e-03, -7.3830e-03,  2.3254e-02, -2.8461e-02,\n",
      "        -2.3835e-03,  9.5755e-03,  2.7254e-02,  7.6696e-03, -1.1301e-02,\n",
      "        -2.3175e-02, -2.5839e-02,  2.0248e-03,  2.4546e-02,  4.9322e-03,\n",
      "        -3.0356e-02, -6.6656e-03,  9.7094e-03,  7.9511e-03, -1.8507e-02,\n",
      "         2.1941e-02, -2.0431e-02,  2.7742e-02, -2.2705e-02,  3.3728e-03,\n",
      "        -7.6782e-03,  3.1020e-03, -3.3850e-02, -3.3956e-02,  1.5936e-02,\n",
      "        -1.8221e-02,  2.1194e-02, -1.9691e-02,  2.4327e-02,  1.5913e-02,\n",
      "         1.3912e-02, -6.8231e-03,  3.3420e-02,  2.8799e-02, -1.2027e-02,\n",
      "         1.4369e-02,  2.8259e-02,  2.6191e-02, -2.2205e-02,  3.5239e-02,\n",
      "         5.8559e-03,  2.0878e-02,  4.6127e-03,  1.9513e-02,  1.0791e-03,\n",
      "         1.5184e-02,  2.9299e-02,  6.5106e-03, -1.8234e-02, -2.7842e-02,\n",
      "         3.0800e-02,  3.1424e-02, -2.2044e-02, -9.4120e-03,  3.1641e-02,\n",
      "        -3.5189e-03, -1.5521e-02, -1.4290e-03,  2.6513e-02, -7.2514e-03,\n",
      "         4.2146e-03, -1.2034e-02, -2.4949e-02, -1.2099e-02, -6.5023e-04,\n",
      "        -2.9814e-02, -9.8604e-03, -2.8869e-02, -2.7119e-02,  1.3332e-02,\n",
      "         1.9561e-02, -1.5413e-02,  1.3738e-02,  2.9387e-02, -3.4970e-02,\n",
      "        -3.0798e-02, -4.8568e-04, -2.9515e-03, -8.3448e-03,  2.0234e-02,\n",
      "        -3.3327e-02,  2.5474e-02, -1.1764e-02, -1.3106e-02, -1.2894e-02,\n",
      "        -1.4954e-02, -1.9943e-02,  9.6803e-03, -2.5969e-02,  2.0224e-02,\n",
      "        -5.8761e-03,  1.8115e-03, -1.8551e-02,  6.9117e-03, -2.3647e-02,\n",
      "         3.1427e-02, -2.8198e-02,  2.3472e-02,  1.1524e-02, -1.4686e-02,\n",
      "        -2.8944e-02, -2.9909e-02, -8.1028e-03, -1.2081e-02,  1.4029e-02,\n",
      "         2.5235e-02, -1.8766e-02, -3.3006e-02,  4.6532e-03, -2.1898e-02,\n",
      "        -1.4097e-02,  1.0155e-02,  2.4145e-02, -2.8253e-02,  6.3367e-03,\n",
      "         1.7394e-02, -7.3042e-03, -7.6245e-03, -3.5308e-02, -1.4656e-02,\n",
      "         5.5460e-03, -1.8271e-02, -2.5534e-02,  2.3539e-02,  1.9246e-02,\n",
      "         2.4794e-02, -1.0320e-02,  1.1334e-02,  3.3168e-02,  2.5066e-02,\n",
      "        -2.9364e-02,  8.2553e-03, -3.2657e-02,  3.1344e-02, -1.5857e-02,\n",
      "         1.9327e-02,  3.6777e-03, -1.7828e-02, -1.6783e-02,  2.9805e-02,\n",
      "        -2.2105e-02,  2.0802e-02,  3.5348e-02, -5.5092e-03,  5.7933e-03,\n",
      "        -6.9435e-03,  2.8051e-04,  2.8889e-02,  9.8335e-04, -2.6357e-02,\n",
      "        -1.6168e-03,  3.4593e-02, -9.6741e-04, -1.0467e-02, -2.1013e-02,\n",
      "         3.1620e-02,  3.2625e-02,  2.4146e-02, -1.2976e-02, -6.0111e-03,\n",
      "         2.3878e-02,  2.8928e-02, -1.0635e-02,  3.6234e-03,  3.1686e-03,\n",
      "        -2.4063e-02,  2.3700e-02,  3.1496e-02,  1.8391e-02, -1.2765e-02,\n",
      "         3.0681e-02,  4.6483e-03,  3.4533e-03,  1.6905e-03, -2.9592e-02,\n",
      "        -3.4845e-03,  3.1633e-02,  1.0900e-02,  3.0954e-02, -5.6244e-03,\n",
      "        -1.3085e-02,  3.8084e-03, -1.6605e-02,  9.7987e-03, -3.5092e-02,\n",
      "         9.5341e-03,  2.6333e-02, -3.5405e-02, -2.6638e-02,  2.5998e-02,\n",
      "        -3.3700e-02, -3.5025e-02,  2.7027e-02,  2.4676e-02,  3.6604e-03,\n",
      "        -2.1493e-02, -2.5858e-02, -1.4791e-02, -1.7969e-02, -2.4780e-02,\n",
      "        -1.7122e-02,  1.4807e-02, -2.0374e-02, -1.5002e-03, -3.1812e-02,\n",
      "        -1.2791e-02, -3.4297e-02, -2.2618e-02, -6.1768e-03, -1.8156e-02,\n",
      "        -4.4761e-03,  2.9563e-02,  3.3709e-02,  3.2573e-02,  2.2472e-02,\n",
      "        -2.6303e-03, -1.5749e-02, -2.4253e-02, -7.8801e-03, -3.4710e-02,\n",
      "         2.1684e-02, -7.1461e-03, -1.9922e-02,  3.3006e-02, -2.6685e-02,\n",
      "         8.2578e-03, -1.0549e-03,  2.5167e-02,  2.3031e-02,  2.6413e-02,\n",
      "        -2.2748e-02, -3.4812e-03, -2.4636e-02,  3.0598e-02,  8.9661e-03,\n",
      "        -2.1283e-02, -3.0670e-02,  3.9416e-03, -2.1316e-02,  8.2779e-04,\n",
      "        -1.3228e-02, -2.2131e-02,  3.3009e-02, -3.9728e-03, -2.9289e-03,\n",
      "        -2.8365e-02, -2.0086e-02, -2.8681e-02, -2.6896e-02,  2.5746e-03,\n",
      "         1.7831e-02,  1.3247e-02, -5.7689e-03,  2.7639e-02, -8.0478e-03,\n",
      "        -3.0024e-02,  8.6273e-03,  3.2861e-03,  1.0700e-02,  2.4927e-03,\n",
      "         3.7538e-03,  7.0157e-03,  2.3400e-02,  2.7697e-02, -1.3953e-02,\n",
      "         3.1504e-02,  1.7688e-02,  2.2342e-02,  2.6570e-02, -3.1328e-02,\n",
      "         2.3695e-02, -2.1934e-02, -1.5664e-02, -6.6660e-03, -1.7494e-02,\n",
      "         6.1430e-03,  2.7146e-02,  3.1981e-02,  3.2716e-02,  2.9726e-02,\n",
      "         2.6460e-02, -2.3088e-02,  2.9451e-02,  2.1658e-02, -2.5383e-02,\n",
      "        -1.3560e-02,  1.4459e-02,  1.5552e-02,  2.6743e-02,  2.6446e-03,\n",
      "         2.3329e-02, -2.2560e-02,  2.8303e-02,  2.2107e-03, -3.3395e-02,\n",
      "        -3.5039e-02, -3.7855e-03, -2.2046e-02, -2.4721e-02,  8.5431e-03,\n",
      "         1.1388e-02,  3.7055e-03,  2.8653e-02,  2.9725e-02, -2.6970e-02,\n",
      "        -2.1805e-02, -9.2095e-03, -2.0991e-02,  2.9227e-02, -3.0567e-02,\n",
      "         1.5622e-02,  2.5451e-02,  1.1840e-02, -4.6634e-03,  1.3760e-02,\n",
      "        -2.6129e-02, -9.2018e-03, -3.5669e-02,  2.3735e-02,  3.0063e-02,\n",
      "         6.7549e-03,  1.5939e-02, -1.5395e-02, -3.4942e-02, -8.4720e-03,\n",
      "        -1.5996e-02,  3.2307e-02, -8.7474e-04,  2.7402e-02, -2.0284e-02,\n",
      "        -2.4274e-02, -2.8570e-02,  1.7791e-02, -2.7079e-03,  3.1497e-02,\n",
      "         1.9894e-02,  1.7624e-02,  2.0722e-02, -1.8731e-02,  3.2158e-03,\n",
      "         1.7837e-02,  3.2574e-02, -3.0019e-02,  2.7676e-02, -4.1020e-03,\n",
      "         2.6096e-02, -1.2077e-02,  4.7796e-03, -9.4210e-03,  7.6578e-03,\n",
      "        -9.0238e-03,  2.5238e-02, -1.0797e-02, -1.9379e-02,  6.4363e-03,\n",
      "         3.1300e-02, -5.2198e-03,  3.4467e-02, -2.3111e-02,  1.1618e-02,\n",
      "        -1.4304e-02,  2.8083e-02, -3.4694e-02,  1.4368e-02, -1.7441e-03,\n",
      "        -9.1115e-04, -2.5317e-02,  1.1493e-02,  1.9200e-02,  1.4476e-02,\n",
      "         1.6577e-02,  9.9858e-03], device='cuda:0', requires_grad=True) \n",
      "\n"
     ]
    }
   ],
   "source": [
    "print(f\"First Linear weights: {model.linear_relu_stack[0].weight} \\n\")\n",
    "\n",
    "print(f\"First Linear weights: {model.linear_relu_stack[0].bias} \\n\")"
   ]
  },
  {
   "cell_type": "code",
   "execution_count": 39,
   "id": "8c387e83",
   "metadata": {},
   "outputs": [
    {
     "name": "stdout",
     "output_type": "stream",
     "text": [
      "torch.Size([3, 28, 28])\n"
     ]
    }
   ],
   "source": [
    "input_image = torch.rand(3,28,28)\n",
    "print(input_image.size())"
   ]
  },
  {
   "cell_type": "code",
   "execution_count": 40,
   "id": "28d6de16",
   "metadata": {},
   "outputs": [
    {
     "name": "stdout",
     "output_type": "stream",
     "text": [
      "torch.Size([3, 784])\n"
     ]
    }
   ],
   "source": [
    "flatten = nn.Flatten()\n",
    "flat_image = flatten(input_image)\n",
    "print(flat_image.size())"
   ]
  },
  {
   "cell_type": "code",
   "execution_count": 41,
   "id": "dee804d8",
   "metadata": {},
   "outputs": [
    {
     "name": "stdout",
     "output_type": "stream",
     "text": [
      "torch.Size([3, 20])\n"
     ]
    }
   ],
   "source": [
    "layer1 = nn.Linear(in_features=28*28, out_features=20)\n",
    "hidden1 = layer1(flat_image)\n",
    "print(hidden1.size())"
   ]
  },
  {
   "cell_type": "code",
   "execution_count": 42,
   "id": "042a4845",
   "metadata": {},
   "outputs": [
    {
     "name": "stdout",
     "output_type": "stream",
     "text": [
      "Before ReLU: tensor([[ 0.4148,  0.4344,  0.4518,  0.0906,  0.2262,  0.0977, -0.3709,  0.3493,\n",
      "         -0.0912,  0.6310,  0.5354,  0.4344, -0.0567,  0.0899,  0.2948,  0.5822,\n",
      "         -0.0847, -0.1370,  0.3612, -0.2479],\n",
      "        [ 0.0030,  0.1337,  0.4363,  0.1768,  0.0740,  0.2978, -0.1076, -0.1071,\n",
      "          0.1075,  0.5838,  0.4883,  0.2801, -0.0716, -0.1677,  0.2176,  0.1635,\n",
      "          0.5628,  0.0579, -0.1075, -0.0114],\n",
      "        [ 0.1135,  0.3888,  0.3771,  0.3349, -0.1246,  0.1006, -0.4491,  0.3738,\n",
      "          0.1249,  0.5298,  0.3753, -0.2064, -0.1070,  0.3210,  0.0534,  0.0284,\n",
      "          0.1597,  0.2276,  0.5894, -0.5134]], grad_fn=<AddmmBackward>)\n",
      "\n",
      "\n",
      "After ReLU: tensor([[0.4148, 0.4344, 0.4518, 0.0906, 0.2262, 0.0977, 0.0000, 0.3493, 0.0000,\n",
      "         0.6310, 0.5354, 0.4344, 0.0000, 0.0899, 0.2948, 0.5822, 0.0000, 0.0000,\n",
      "         0.3612, 0.0000],\n",
      "        [0.0030, 0.1337, 0.4363, 0.1768, 0.0740, 0.2978, 0.0000, 0.0000, 0.1075,\n",
      "         0.5838, 0.4883, 0.2801, 0.0000, 0.0000, 0.2176, 0.1635, 0.5628, 0.0579,\n",
      "         0.0000, 0.0000],\n",
      "        [0.1135, 0.3888, 0.3771, 0.3349, 0.0000, 0.1006, 0.0000, 0.3738, 0.1249,\n",
      "         0.5298, 0.3753, 0.0000, 0.0000, 0.3210, 0.0534, 0.0284, 0.1597, 0.2276,\n",
      "         0.5894, 0.0000]], grad_fn=<ReluBackward0>)\n"
     ]
    }
   ],
   "source": [
    "print(f\"Before ReLU: {hidden1}\\n\\n\")\n",
    "hidden1 = nn.ReLU()(hidden1)\n",
    "print(f\"After ReLU: {hidden1}\")"
   ]
  },
  {
   "cell_type": "code",
   "execution_count": 43,
   "id": "fa5fe9c6",
   "metadata": {},
   "outputs": [],
   "source": [
    "seq_modules = nn.Sequential(\n",
    "    flatten,\n",
    "    layer1,\n",
    "    nn.ReLU(),\n",
    "    nn.Linear(20, 10)\n",
    ")\n",
    "input_image = torch.rand(3,28,28)\n",
    "logits = seq_modules(input_image)"
   ]
  },
  {
   "cell_type": "code",
   "execution_count": 44,
   "id": "311010f3",
   "metadata": {},
   "outputs": [],
   "source": [
    "softmax = nn.Softmax(dim=1)\n",
    "pred_probab = softmax(logits)"
   ]
  },
  {
   "cell_type": "code",
   "execution_count": 45,
   "id": "f06a8156",
   "metadata": {},
   "outputs": [
    {
     "name": "stdout",
     "output_type": "stream",
     "text": [
      "Model structure:  NeuralNetwork(\n",
      "  (flatten): Flatten(start_dim=1, end_dim=-1)\n",
      "  (linear_relu_stack): Sequential(\n",
      "    (0): Linear(in_features=784, out_features=512, bias=True)\n",
      "    (1): ReLU()\n",
      "    (2): Linear(in_features=512, out_features=512, bias=True)\n",
      "    (3): ReLU()\n",
      "    (4): Linear(in_features=512, out_features=10, bias=True)\n",
      "    (5): ReLU()\n",
      "  )\n",
      ") \n",
      "\n",
      "\n",
      "Layer: linear_relu_stack.0.weight | Size: torch.Size([512, 784]) | Values : tensor([[-0.0077,  0.0283, -0.0236,  ...,  0.0285, -0.0278, -0.0303],\n",
      "        [-0.0014,  0.0211, -0.0294,  ...,  0.0066,  0.0041, -0.0140]],\n",
      "       device='cuda:0', grad_fn=<SliceBackward>) \n",
      "\n",
      "Layer: linear_relu_stack.0.bias | Size: torch.Size([512]) | Values : tensor([ 0.0191, -0.0215], device='cuda:0', grad_fn=<SliceBackward>) \n",
      "\n",
      "Layer: linear_relu_stack.2.weight | Size: torch.Size([512, 512]) | Values : tensor([[ 0.0090, -0.0095, -0.0172,  ..., -0.0100, -0.0423, -0.0372],\n",
      "        [-0.0333, -0.0352,  0.0159,  ..., -0.0410,  0.0439, -0.0253]],\n",
      "       device='cuda:0', grad_fn=<SliceBackward>) \n",
      "\n",
      "Layer: linear_relu_stack.2.bias | Size: torch.Size([512]) | Values : tensor([-0.0222,  0.0113], device='cuda:0', grad_fn=<SliceBackward>) \n",
      "\n",
      "Layer: linear_relu_stack.4.weight | Size: torch.Size([10, 512]) | Values : tensor([[-0.0096, -0.0232, -0.0126,  ..., -0.0209, -0.0265,  0.0242],\n",
      "        [-0.0272, -0.0224, -0.0441,  ..., -0.0144, -0.0121,  0.0373]],\n",
      "       device='cuda:0', grad_fn=<SliceBackward>) \n",
      "\n",
      "Layer: linear_relu_stack.4.bias | Size: torch.Size([10]) | Values : tensor([0.0183, 0.0184], device='cuda:0', grad_fn=<SliceBackward>) \n",
      "\n"
     ]
    }
   ],
   "source": [
    "print(\"Model structure: \", model, \"\\n\\n\")\n",
    "\n",
    "for name, param in model.named_parameters():\n",
    "    print(f\"Layer: {name} | Size: {param.size()} | Values : {param[:2]} \\n\")"
   ]
  },
  {
   "cell_type": "code",
   "execution_count": 46,
   "id": "e0db9f7a",
   "metadata": {},
   "outputs": [
    {
     "name": "stdout",
     "output_type": "stream",
     "text": [
      "tensor(1.1385, grad_fn=<BinaryCrossEntropyWithLogitsBackward>)\n"
     ]
    }
   ],
   "source": [
    "#Automatic differentiation\n",
    "%matplotlib inline\n",
    "import torch\n",
    "\n",
    "x = torch.ones(5)  # input tensor\n",
    "y = torch.zeros(3)  # expected output\n",
    "w = torch.randn(5, 3, requires_grad=True)\n",
    "b = torch.randn(3, requires_grad=True)\n",
    "z = torch.matmul(x, w)+b\n",
    "loss = torch.nn.functional.binary_cross_entropy_with_logits(z, y)\n",
    "print(loss)"
   ]
  },
  {
   "cell_type": "code",
   "execution_count": 47,
   "id": "2de4810c",
   "metadata": {},
   "outputs": [
    {
     "name": "stdout",
     "output_type": "stream",
     "text": [
      "Gradient function for z = <AddBackward0 object at 0x000002012DDCDAF0>\n",
      "Gradient function for loss = <BinaryCrossEntropyWithLogitsBackward object at 0x000002012DDCD190>\n"
     ]
    }
   ],
   "source": [
    "print('Gradient function for z =',z.grad_fn)\n",
    "print('Gradient function for loss =', loss.grad_fn)"
   ]
  },
  {
   "cell_type": "code",
   "execution_count": 48,
   "id": "d0ee1e87",
   "metadata": {},
   "outputs": [
    {
     "name": "stdout",
     "output_type": "stream",
     "text": [
      "tensor([[0.2700, 0.0400, 0.2678],\n",
      "        [0.2700, 0.0400, 0.2678],\n",
      "        [0.2700, 0.0400, 0.2678],\n",
      "        [0.2700, 0.0400, 0.2678],\n",
      "        [0.2700, 0.0400, 0.2678]])\n",
      "tensor([0.2700, 0.0400, 0.2678])\n"
     ]
    }
   ],
   "source": [
    "loss.backward()\n",
    "print(w.grad)\n",
    "print(b.grad)"
   ]
  },
  {
   "cell_type": "code",
   "execution_count": 49,
   "id": "8ba0a3ef",
   "metadata": {},
   "outputs": [
    {
     "name": "stdout",
     "output_type": "stream",
     "text": [
      "True\n",
      "False\n"
     ]
    }
   ],
   "source": [
    "z = torch.matmul(x, w)+b\n",
    "print(z.requires_grad)\n",
    "\n",
    "with torch.no_grad():\n",
    "    z = torch.matmul(x, w)+b\n",
    "print(z.requires_grad)"
   ]
  },
  {
   "cell_type": "code",
   "execution_count": 50,
   "id": "d2ed7c3f",
   "metadata": {},
   "outputs": [
    {
     "name": "stdout",
     "output_type": "stream",
     "text": [
      "False\n"
     ]
    }
   ],
   "source": [
    "z = torch.matmul(x, w)+b\n",
    "z_det = z.detach()\n",
    "print(z_det.requires_grad)"
   ]
  },
  {
   "cell_type": "code",
   "execution_count": 51,
   "id": "7f6a39a4",
   "metadata": {},
   "outputs": [
    {
     "name": "stdout",
     "output_type": "stream",
     "text": [
      "First call\n",
      " tensor([[4., 2., 2., 2., 2.],\n",
      "        [2., 4., 2., 2., 2.],\n",
      "        [2., 2., 4., 2., 2.],\n",
      "        [2., 2., 2., 4., 2.],\n",
      "        [2., 2., 2., 2., 4.]])\n",
      "\n",
      "Second call\n",
      " tensor([[8., 4., 4., 4., 4.],\n",
      "        [4., 8., 4., 4., 4.],\n",
      "        [4., 4., 8., 4., 4.],\n",
      "        [4., 4., 4., 8., 4.],\n",
      "        [4., 4., 4., 4., 8.]])\n",
      "\n",
      "Call after zeroing gradients\n",
      " tensor([[12.,  6.,  6.,  6.,  6.],\n",
      "        [ 6., 12.,  6.,  6.,  6.],\n",
      "        [ 6.,  6., 12.,  6.,  6.],\n",
      "        [ 6.,  6.,  6., 12.,  6.],\n",
      "        [ 6.,  6.,  6.,  6., 12.]])\n"
     ]
    }
   ],
   "source": [
    "#Conceptually, autograd keeps a record of data (tensors) and all executed operations (along with the resulting new tensors)\n",
    "#in a directed acyclic graph (DAG) consisting of Function objects. In this DAG, leaves are the input tensors, \n",
    "#roots are the output tensors. By tracing this graph from roots to leaves, you can automatically compute the \n",
    "#gradients using the chain rule.\n",
    "\n",
    "#In a forward pass, autograd does two things simultaneously:\n",
    "#\n",
    "#run the requested operation to compute a resulting tensor\n",
    "#maintain the operation’s gradient function in the DAG.\n",
    "#The backward pass kicks off when .backward() is called on the DAG root. autograd then:\n",
    "#\n",
    "#computes the gradients from each .grad_fn,\n",
    "#accumulates them in the respective tensor’s .grad attribute\n",
    "#using the chain rule, propagates all the way to the leaf tensors.\n",
    "\n",
    "inp = torch.eye(5, requires_grad=True)\n",
    "out = (inp+1).pow(2)\n",
    "\n",
    "#loss = torch.nn.functional.binary_cross_entropy_with_logits(inp, out)\n",
    "\n",
    "#loss.backward(retain_graph=True)\n",
    "out.backward(torch.ones_like(inp), retain_graph=True)\n",
    "print(\"First call\\n\", inp.grad)\n",
    "out.backward(torch.ones_like(inp), retain_graph=True)\n",
    "print(\"\\nSecond call\\n\", inp.grad)\n",
    "#inp.grad.zero_()\n",
    "out.backward(torch.ones_like(inp), retain_graph=True)\n",
    "print(\"\\nCall after zeroing gradients\\n\", inp.grad)"
   ]
  },
  {
   "cell_type": "code",
   "execution_count": 17,
   "id": "6a13d14e",
   "metadata": {},
   "outputs": [],
   "source": [
    "%matplotlib inline\n",
    "import torch\n",
    "from torch import nn\n",
    "from torch.utils.data import DataLoader\n",
    "from torchvision import datasets\n",
    "from torchvision.transforms import ToTensor, Lambda, Compose\n",
    "import matplotlib.pyplot as plt"
   ]
  },
  {
   "cell_type": "code",
   "execution_count": 18,
   "id": "cfa7c780",
   "metadata": {},
   "outputs": [
    {
     "name": "stdout",
     "output_type": "stream",
     "text": [
      "Shape of X [N, C, H, W]:  torch.Size([64, 1, 28, 28])\n",
      "Shape of y:  torch.Size([64]) torch.int64\n"
     ]
    },
    {
     "data": {
      "image/png": "[encoded data removed]",
      "text/plain": [
       "<Figure size 720x576 with 25 Axes>"
      ]
     },
     "metadata": {
      "needs_background": "light"
     },
     "output_type": "display_data"
    }
   ],
   "source": [
    "training_data = datasets.FashionMNIST(\n",
    "    root=\"data\",\n",
    "    train=True,\n",
    "    download=True,\n",
    "    transform=ToTensor()\n",
    ")\n",
    "\n",
    "test_data = datasets.FashionMNIST(\n",
    "    root=\"data\",\n",
    "    train=False,\n",
    "    download=True,\n",
    "    transform=ToTensor()\n",
    ")\n",
    "\n",
    "batch_size = 64\n",
    "\n",
    "train_dataloader = DataLoader(training_data, batch_size=batch_size)\n",
    "test_dataloader = DataLoader(test_data, batch_size=batch_size)\n",
    "\n",
    "for X, y in test_dataloader:\n",
    "    print(\"Shape of X [N, C, H, W]: \", X.shape)\n",
    "    print(\"Shape of y: \", y.shape, y.dtype)\n",
    "    break\n",
    "    \n",
    "# Display sample data\n",
    "figure = plt.figure(figsize=(10, 8))\n",
    "cols, rows = 5, 5\n",
    "for i in range(1, cols * rows + 1):\n",
    "    idx = torch.randint(len(test_data), size=(1,)).item()\n",
    "    img, label = test_data[idx]\n",
    "    figure.add_subplot(rows, cols, i)\n",
    "    plt.title(label)\n",
    "    plt.axis(\"off\")\n",
    "    plt.imshow(img.squeeze(), cmap=\"gray\")\n",
    "plt.show()"
   ]
  },
  {
   "cell_type": "code",
   "execution_count": 19,
   "id": "d7dd8688",
   "metadata": {},
   "outputs": [
    {
     "name": "stdout",
     "output_type": "stream",
     "text": [
      "Using cuda device\n"
     ]
    }
   ],
   "source": [
    "# Get cpu or gpu device for training.\n",
    "device = \"cuda\" if torch.cuda.is_available() else \"cpu\"\n",
    "print(\"Using {} device\".format(device))"
   ]
  },
  {
   "cell_type": "code",
   "execution_count": 20,
   "id": "8bcb133d",
   "metadata": {},
   "outputs": [
    {
     "name": "stdout",
     "output_type": "stream",
     "text": [
      "NeuralNetwork(\n",
      "  (flatten): Flatten(start_dim=1, end_dim=-1)\n",
      "  (linear_relu_stack): Sequential(\n",
      "    (0): Linear(in_features=784, out_features=512, bias=True)\n",
      "    (1): ReLU()\n",
      "    (2): Linear(in_features=512, out_features=512, bias=True)\n",
      "    (3): ReLU()\n",
      "    (4): Linear(in_features=512, out_features=10, bias=True)\n",
      "    (5): ReLU()\n",
      "  )\n",
      ")\n"
     ]
    }
   ],
   "source": [
    "class NeuralNetwork(nn.Module):\n",
    "    def __init__(self):\n",
    "        super(NeuralNetwork, self).__init__()\n",
    "        self.flatten = nn.Flatten()\n",
    "        self.linear_relu_stack = nn.Sequential(\n",
    "            nn.Linear(28*28, 512),\n",
    "            nn.ReLU(),\n",
    "            nn.Linear(512, 512),\n",
    "            nn.ReLU(),\n",
    "            nn.Linear(512, 10),\n",
    "            nn.ReLU()\n",
    "        )\n",
    "\n",
    "    def forward(self, x):\n",
    "        x = self.flatten(x)\n",
    "        logits = self.linear_relu_stack(x)\n",
    "        return logits\n",
    "\n",
    "model = NeuralNetwork().to(device)\n",
    "print(model)"
   ]
  },
  {
   "cell_type": "code",
   "execution_count": 21,
   "id": "dae52def",
   "metadata": {},
   "outputs": [],
   "source": [
    "loss_fn = nn.CrossEntropyLoss()\n",
    "learning_rate = 1e-3\n",
    "optimizer = torch.optim.SGD(model.parameters(), lr = learning_rate)"
   ]
  },
  {
   "cell_type": "code",
   "execution_count": 22,
   "id": "fe91c504",
   "metadata": {},
   "outputs": [],
   "source": [
    "def train(dataloader, model, loss_fn, optimzier):\n",
    "    size = len(dataloader.dataset)\n",
    "    for batch, (X, y) in enumerate(dataloader):\n",
    "        X,y = X.to(device), y.to(device)\n",
    "        \n",
    "        # Compute prediction error\n",
    "        pred = model(X)\n",
    "        loss = loss_fn(pred, y)\n",
    "        \n",
    "        # Backpropagation\n",
    "        optimizer.zero_grad()\n",
    "        loss.backward()\n",
    "        optimizer.step()\n",
    "        \n",
    "        if batch % 100 == 0:\n",
    "            loss, current = loss.item(), batch * len(X)\n",
    "            print(f\"loss: {loss:>7f} [{current:>5d}/{size:>5d}]\")"
   ]
  },
  {
   "cell_type": "code",
   "execution_count": 23,
   "id": "d18b5bdb",
   "metadata": {},
   "outputs": [],
   "source": [
    "def test(dataloader, model):\n",
    "    size = len(dataloader.dataset)\n",
    "    model.eval()\n",
    "    \n",
    "    test_loss, correct = 0,0\n",
    "    \n",
    "    with torch.no_grad():\n",
    "        for X, y in dataloader:\n",
    "            X, y = X.to(device), y.to(device)\n",
    "            pred = model(X)\n",
    "            test_loss += loss_fn(pred, y).item()\n",
    "            correct += (pred.argmax(1) == y).type(torch.float).sum().item()\n",
    "       \n",
    "    test_loss /= size\n",
    "    correct /= size\n",
    "    print(f\"Test Error: \\n Accuracy: {(100*correct):>0.1f}%, Avg loss: {test_loss:>8f} \\n\")"
   ]
  },
  {
   "cell_type": "code",
   "execution_count": 24,
   "id": "144f968e",
   "metadata": {},
   "outputs": [
    {
     "name": "stdout",
     "output_type": "stream",
     "text": [
      "Epoch 1\n",
      " ----\n",
      "loss: 2.307143 [    0/60000]\n",
      "loss: 2.296905 [ 6400/60000]\n",
      "loss: 2.288487 [12800/60000]\n",
      "loss: 2.276289 [19200/60000]\n",
      "loss: 2.270310 [25600/60000]\n",
      "loss: 2.263927 [32000/60000]\n",
      "loss: 2.259166 [38400/60000]\n",
      "loss: 2.257097 [44800/60000]\n",
      "loss: 2.263505 [51200/60000]\n",
      "loss: 2.200286 [57600/60000]\n",
      "Test Error: \n",
      " Accuracy: 39.8%, Avg loss: 0.034970 \n",
      "\n",
      "Epoch 2\n",
      " ----\n",
      "loss: 2.262614 [    0/60000]\n",
      "loss: 2.238093 [ 6400/60000]\n",
      "loss: 2.212969 [12800/60000]\n",
      "loss: 2.184932 [19200/60000]\n",
      "loss: 2.167042 [25600/60000]\n",
      "loss: 2.180028 [32000/60000]\n",
      "loss: 2.166897 [38400/60000]\n",
      "loss: 2.168025 [44800/60000]\n",
      "loss: 2.191757 [51200/60000]\n",
      "loss: 2.056398 [57600/60000]\n",
      "Test Error: \n",
      " Accuracy: 41.3%, Avg loss: 0.033151 \n",
      "\n",
      "Epoch 3\n",
      " ----\n",
      "loss: 2.195414 [    0/60000]\n",
      "loss: 2.138829 [ 6400/60000]\n",
      "loss: 2.088403 [12800/60000]\n",
      "loss: 2.039550 [19200/60000]\n",
      "loss: 1.990870 [25600/60000]\n",
      "loss: 2.046144 [32000/60000]\n",
      "loss: 2.016025 [38400/60000]\n",
      "loss: 2.027879 [44800/60000]\n",
      "loss: 2.076914 [51200/60000]\n",
      "loss: 1.829122 [57600/60000]\n",
      "Test Error: \n",
      " Accuracy: 42.3%, Avg loss: 0.030249 \n",
      "\n",
      "Epoch 4\n",
      " ----\n",
      "loss: 2.076701 [    0/60000]\n",
      "loss: 1.994143 [ 6400/60000]\n",
      "loss: 1.899569 [12800/60000]\n",
      "loss: 1.827053 [19200/60000]\n",
      "loss: 1.765531 [25600/60000]\n",
      "loss: 1.828189 [32000/60000]\n",
      "loss: 1.779029 [38400/60000]\n",
      "loss: 1.788116 [44800/60000]\n",
      "loss: 1.907618 [51200/60000]\n",
      "loss: 1.550021 [57600/60000]\n",
      "Test Error: \n",
      " Accuracy: 46.3%, Avg loss: 0.026779 \n",
      "\n",
      "Epoch 5\n",
      " ----\n",
      "loss: 1.920788 [    0/60000]\n",
      "loss: 1.842852 [ 6400/60000]\n",
      "loss: 1.708961 [12800/60000]\n",
      "loss: 1.609371 [19200/60000]\n",
      "loss: 1.554834 [25600/60000]\n",
      "loss: 1.654611 [32000/60000]\n",
      "loss: 1.575808 [38400/60000]\n",
      "loss: 1.614723 [44800/60000]\n",
      "loss: 1.753673 [51200/60000]\n",
      "loss: 1.342813 [57600/60000]\n",
      "Test Error: \n",
      " Accuracy: 50.3%, Avg loss: 0.024069 \n",
      "\n",
      "Epoch 6\n",
      " ----\n",
      "loss: 1.778174 [    0/60000]\n",
      "loss: 1.709466 [ 6400/60000]\n",
      "loss: 1.549087 [12800/60000]\n",
      "loss: 1.449202 [19200/60000]\n",
      "loss: 1.386272 [25600/60000]\n",
      "loss: 1.524575 [32000/60000]\n",
      "loss: 1.430161 [38400/60000]\n",
      "loss: 1.488485 [44800/60000]\n",
      "loss: 1.628904 [51200/60000]\n",
      "loss: 1.213181 [57600/60000]\n",
      "Test Error: \n",
      " Accuracy: 52.5%, Avg loss: 0.022165 \n",
      "\n",
      "Epoch 7\n",
      " ----\n",
      "loss: 1.658350 [    0/60000]\n",
      "loss: 1.610041 [ 6400/60000]\n",
      "loss: 1.426774 [12800/60000]\n",
      "loss: 1.343628 [19200/60000]\n",
      "loss: 1.268370 [25600/60000]\n",
      "loss: 1.428774 [32000/60000]\n",
      "loss: 1.330031 [38400/60000]\n",
      "loss: 1.401304 [44800/60000]\n",
      "loss: 1.536052 [51200/60000]\n",
      "loss: 1.128470 [57600/60000]\n",
      "Test Error: \n",
      " Accuracy: 53.6%, Avg loss: 0.020836 \n",
      "\n",
      "Epoch 8\n",
      " ----\n",
      "loss: 1.566438 [    0/60000]\n",
      "loss: 1.536007 [ 6400/60000]\n",
      "loss: 1.336402 [12800/60000]\n",
      "loss: 1.271522 [19200/60000]\n",
      "loss: 1.186519 [25600/60000]\n",
      "loss: 1.356069 [32000/60000]\n",
      "loss: 1.258011 [38400/60000]\n",
      "loss: 1.338243 [44800/60000]\n",
      "loss: 1.465698 [51200/60000]\n",
      "loss: 1.068493 [57600/60000]\n",
      "Test Error: \n",
      " Accuracy: 54.8%, Avg loss: 0.019871 \n",
      "\n",
      "Epoch 9\n",
      " ----\n",
      "loss: 1.495723 [    0/60000]\n",
      "loss: 1.480417 [ 6400/60000]\n",
      "loss: 1.266612 [12800/60000]\n",
      "loss: 1.218654 [19200/60000]\n",
      "loss: 1.129179 [25600/60000]\n",
      "loss: 1.299380 [32000/60000]\n",
      "loss: 1.205388 [38400/60000]\n",
      "loss: 1.291806 [44800/60000]\n",
      "loss: 1.413274 [51200/60000]\n",
      "loss: 1.022671 [57600/60000]\n",
      "Test Error: \n",
      " Accuracy: 55.8%, Avg loss: 0.019156 \n",
      "\n",
      "Epoch 10\n",
      " ----\n",
      "loss: 1.440896 [    0/60000]\n",
      "loss: 1.439764 [ 6400/60000]\n",
      "loss: 1.211515 [12800/60000]\n",
      "loss: 1.179180 [19200/60000]\n",
      "loss: 1.088836 [25600/60000]\n",
      "loss: 1.256156 [32000/60000]\n",
      "loss: 1.164641 [38400/60000]\n",
      "loss: 1.255919 [44800/60000]\n",
      "loss: 1.372605 [51200/60000]\n",
      "loss: 0.987703 [57600/60000]\n",
      "Test Error: \n",
      " Accuracy: 56.7%, Avg loss: 0.018605 \n",
      "\n",
      "Epoch 11\n",
      " ----\n",
      "loss: 1.395977 [    0/60000]\n",
      "loss: 1.408504 [ 6400/60000]\n",
      "loss: 1.167665 [12800/60000]\n",
      "loss: 1.148369 [19200/60000]\n",
      "loss: 1.058534 [25600/60000]\n",
      "loss: 1.221773 [32000/60000]\n",
      "loss: 1.132417 [38400/60000]\n",
      "loss: 1.227436 [44800/60000]\n",
      "loss: 1.338001 [51200/60000]\n",
      "loss: 0.959898 [57600/60000]\n",
      "Test Error: \n",
      " Accuracy: 57.7%, Avg loss: 0.018156 \n",
      "\n",
      "Epoch 12\n",
      " ----\n",
      "loss: 1.357177 [    0/60000]\n",
      "loss: 1.382476 [ 6400/60000]\n",
      "loss: 1.131989 [12800/60000]\n",
      "loss: 1.123543 [19200/60000]\n",
      "loss: 1.034345 [25600/60000]\n",
      "loss: 1.193691 [32000/60000]\n",
      "loss: 1.105447 [38400/60000]\n",
      "loss: 1.203289 [44800/60000]\n",
      "loss: 1.307837 [51200/60000]\n",
      "loss: 0.936458 [57600/60000]\n",
      "Test Error: \n",
      " Accuracy: 59.0%, Avg loss: 0.017773 \n",
      "\n",
      "Epoch 13\n",
      " ----\n",
      "loss: 1.322266 [    0/60000]\n",
      "loss: 1.359930 [ 6400/60000]\n",
      "loss: 1.101699 [12800/60000]\n",
      "loss: 1.102387 [19200/60000]\n",
      "loss: 1.014078 [25600/60000]\n",
      "loss: 1.169588 [32000/60000]\n",
      "loss: 1.081591 [38400/60000]\n",
      "loss: 1.182638 [44800/60000]\n",
      "loss: 1.282192 [51200/60000]\n",
      "loss: 0.915796 [57600/60000]\n",
      "Test Error: \n",
      " Accuracy: 60.4%, Avg loss: 0.017437 \n",
      "\n",
      "Epoch 14\n",
      " ----\n",
      "loss: 1.290655 [    0/60000]\n",
      "loss: 1.339329 [ 6400/60000]\n",
      "loss: 1.075343 [12800/60000]\n",
      "loss: 1.083475 [19200/60000]\n",
      "loss: 0.997079 [25600/60000]\n",
      "loss: 1.148849 [32000/60000]\n",
      "loss: 1.059511 [38400/60000]\n",
      "loss: 1.164001 [44800/60000]\n",
      "loss: 1.258830 [51200/60000]\n",
      "loss: 0.897283 [57600/60000]\n",
      "Test Error: \n",
      " Accuracy: 61.7%, Avg loss: 0.017135 \n",
      "\n",
      "Epoch 15\n",
      " ----\n",
      "loss: 1.261243 [    0/60000]\n",
      "loss: 1.320565 [ 6400/60000]\n",
      "loss: 1.051989 [12800/60000]\n",
      "loss: 1.066568 [19200/60000]\n",
      "loss: 0.982403 [25600/60000]\n",
      "loss: 1.130426 [32000/60000]\n",
      "loss: 1.039453 [38400/60000]\n",
      "loss: 1.147401 [44800/60000]\n",
      "loss: 1.237865 [51200/60000]\n",
      "loss: 0.880246 [57600/60000]\n",
      "Test Error: \n",
      " Accuracy: 63.0%, Avg loss: 0.016861 \n",
      "\n",
      "Epoch 16\n",
      " ----\n",
      "loss: 1.234503 [    0/60000]\n",
      "loss: 1.302788 [ 6400/60000]\n",
      "loss: 1.031039 [12800/60000]\n",
      "loss: 1.051525 [19200/60000]\n",
      "loss: 0.969287 [25600/60000]\n",
      "loss: 1.113723 [32000/60000]\n",
      "loss: 1.021000 [38400/60000]\n",
      "loss: 1.132369 [44800/60000]\n",
      "loss: 1.218877 [51200/60000]\n",
      "loss: 0.864463 [57600/60000]\n",
      "Test Error: \n",
      " Accuracy: 64.0%, Avg loss: 0.016611 \n",
      "\n",
      "Epoch 17\n",
      " ----\n",
      "loss: 1.209983 [    0/60000]\n",
      "loss: 1.285851 [ 6400/60000]\n",
      "loss: 1.013040 [12800/60000]\n",
      "loss: 1.038078 [19200/60000]\n",
      "loss: 0.957660 [25600/60000]\n",
      "loss: 1.099173 [32000/60000]\n",
      "loss: 1.003966 [38400/60000]\n",
      "loss: 1.118733 [44800/60000]\n",
      "loss: 1.202180 [51200/60000]\n",
      "loss: 0.849817 [57600/60000]\n",
      "Test Error: \n",
      " Accuracy: 65.0%, Avg loss: 0.016382 \n",
      "\n",
      "Epoch 18\n",
      " ----\n",
      "loss: 1.187684 [    0/60000]\n",
      "loss: 1.269832 [ 6400/60000]\n",
      "loss: 0.996803 [12800/60000]\n",
      "loss: 1.025556 [19200/60000]\n",
      "loss: 0.947856 [25600/60000]\n",
      "loss: 1.086255 [32000/60000]\n",
      "loss: 0.988095 [38400/60000]\n",
      "loss: 1.106507 [44800/60000]\n",
      "loss: 1.187623 [51200/60000]\n",
      "loss: 0.836260 [57600/60000]\n",
      "Test Error: \n",
      " Accuracy: 66.0%, Avg loss: 0.016171 \n",
      "\n",
      "Epoch 19\n",
      " ----\n",
      "loss: 1.167483 [    0/60000]\n",
      "loss: 1.254831 [ 6400/60000]\n",
      "loss: 0.982620 [12800/60000]\n",
      "loss: 1.014334 [19200/60000]\n",
      "loss: 0.939190 [25600/60000]\n",
      "loss: 1.074808 [32000/60000]\n",
      "loss: 0.973322 [38400/60000]\n",
      "loss: 1.095642 [44800/60000]\n",
      "loss: 1.174645 [51200/60000]\n",
      "loss: 0.822953 [57600/60000]\n",
      "Test Error: \n",
      " Accuracy: 66.8%, Avg loss: 0.015978 \n",
      "\n",
      "Epoch 20\n",
      " ----\n",
      "loss: 1.148943 [    0/60000]\n",
      "loss: 1.240669 [ 6400/60000]\n",
      "loss: 0.969965 [12800/60000]\n",
      "loss: 1.003886 [19200/60000]\n",
      "loss: 0.931499 [25600/60000]\n",
      "loss: 1.064710 [32000/60000]\n",
      "loss: 0.959274 [38400/60000]\n",
      "loss: 1.085768 [44800/60000]\n",
      "loss: 1.163504 [51200/60000]\n",
      "loss: 0.810708 [57600/60000]\n",
      "Test Error: \n",
      " Accuracy: 67.3%, Avg loss: 0.015801 \n",
      "\n",
      "Epoch 21\n",
      " ----\n",
      "loss: 1.131999 [    0/60000]\n",
      "loss: 1.227425 [ 6400/60000]\n",
      "loss: 0.958856 [12800/60000]\n",
      "loss: 0.994173 [19200/60000]\n",
      "loss: 0.924932 [25600/60000]\n",
      "loss: 1.055581 [32000/60000]\n",
      "loss: 0.946207 [38400/60000]\n",
      "loss: 1.076884 [44800/60000]\n",
      "loss: 1.153398 [51200/60000]\n",
      "loss: 0.799194 [57600/60000]\n",
      "Test Error: \n",
      " Accuracy: 67.9%, Avg loss: 0.015638 \n",
      "\n",
      "Epoch 22\n",
      " ----\n",
      "loss: 1.116663 [    0/60000]\n",
      "loss: 1.215052 [ 6400/60000]\n",
      "loss: 0.949243 [12800/60000]\n",
      "loss: 0.985137 [19200/60000]\n",
      "loss: 0.918907 [25600/60000]\n",
      "loss: 1.047594 [32000/60000]\n",
      "loss: 0.933845 [38400/60000]\n",
      "loss: 1.068890 [44800/60000]\n",
      "loss: 1.144815 [51200/60000]\n",
      "loss: 0.788411 [57600/60000]\n",
      "Test Error: \n",
      " Accuracy: 68.3%, Avg loss: 0.015489 \n",
      "\n",
      "Epoch 23\n",
      " ----\n",
      "loss: 1.102806 [    0/60000]\n",
      "loss: 1.203418 [ 6400/60000]\n",
      "loss: 0.940468 [12800/60000]\n",
      "loss: 0.976755 [19200/60000]\n",
      "loss: 0.913494 [25600/60000]\n",
      "loss: 1.040244 [32000/60000]\n",
      "loss: 0.922384 [38400/60000]\n",
      "loss: 1.061859 [44800/60000]\n",
      "loss: 1.137570 [51200/60000]\n",
      "loss: 0.778262 [57600/60000]\n",
      "Test Error: \n",
      " Accuracy: 68.7%, Avg loss: 0.015351 \n",
      "\n",
      "Epoch 24\n",
      " ----\n",
      "loss: 1.090319 [    0/60000]\n"
     ]
    },
    {
     "name": "stdout",
     "output_type": "stream",
     "text": [
      "loss: 1.192525 [ 6400/60000]\n",
      "loss: 0.932662 [12800/60000]\n",
      "loss: 0.969015 [19200/60000]\n",
      "loss: 0.908261 [25600/60000]\n",
      "loss: 1.033556 [32000/60000]\n",
      "loss: 0.911929 [38400/60000]\n",
      "loss: 1.055514 [44800/60000]\n",
      "loss: 1.131780 [51200/60000]\n",
      "loss: 0.768751 [57600/60000]\n",
      "Test Error: \n",
      " Accuracy: 69.0%, Avg loss: 0.015225 \n",
      "\n",
      "Epoch 25\n",
      " ----\n",
      "loss: 1.078571 [    0/60000]\n",
      "loss: 1.182292 [ 6400/60000]\n",
      "loss: 0.925737 [12800/60000]\n",
      "loss: 0.961703 [19200/60000]\n",
      "loss: 0.903374 [25600/60000]\n",
      "loss: 1.027385 [32000/60000]\n",
      "loss: 0.901959 [38400/60000]\n",
      "loss: 1.050257 [44800/60000]\n",
      "loss: 1.127031 [51200/60000]\n",
      "loss: 0.759577 [57600/60000]\n",
      "Test Error: \n",
      " Accuracy: 69.3%, Avg loss: 0.015108 \n",
      "\n",
      "Epoch 26\n",
      " ----\n",
      "loss: 1.067921 [    0/60000]\n",
      "loss: 1.172678 [ 6400/60000]\n",
      "loss: 0.919289 [12800/60000]\n",
      "loss: 0.954790 [19200/60000]\n",
      "loss: 0.898480 [25600/60000]\n",
      "loss: 1.021965 [32000/60000]\n",
      "loss: 0.892825 [38400/60000]\n",
      "loss: 1.045414 [44800/60000]\n",
      "loss: 1.123031 [51200/60000]\n",
      "loss: 0.750913 [57600/60000]\n",
      "Test Error: \n",
      " Accuracy: 69.5%, Avg loss: 0.015001 \n",
      "\n",
      "Epoch 27\n",
      " ----\n",
      "loss: 1.058090 [    0/60000]\n",
      "loss: 1.163531 [ 6400/60000]\n",
      "loss: 0.913280 [12800/60000]\n",
      "loss: 0.948236 [19200/60000]\n",
      "loss: 0.893626 [25600/60000]\n",
      "loss: 1.016962 [32000/60000]\n",
      "loss: 0.884271 [38400/60000]\n",
      "loss: 1.041086 [44800/60000]\n",
      "loss: 1.119609 [51200/60000]\n",
      "loss: 0.742688 [57600/60000]\n",
      "Test Error: \n",
      " Accuracy: 69.7%, Avg loss: 0.014901 \n",
      "\n",
      "Epoch 28\n",
      " ----\n",
      "loss: 1.048958 [    0/60000]\n",
      "loss: 1.154915 [ 6400/60000]\n",
      "loss: 0.907768 [12800/60000]\n",
      "loss: 0.942033 [19200/60000]\n",
      "loss: 0.888977 [25600/60000]\n",
      "loss: 1.012122 [32000/60000]\n",
      "loss: 0.876134 [38400/60000]\n",
      "loss: 1.037350 [44800/60000]\n",
      "loss: 1.116621 [51200/60000]\n",
      "loss: 0.734957 [57600/60000]\n",
      "Test Error: \n",
      " Accuracy: 69.9%, Avg loss: 0.014809 \n",
      "\n",
      "Epoch 29\n",
      " ----\n",
      "loss: 1.040325 [    0/60000]\n",
      "loss: 1.146828 [ 6400/60000]\n",
      "loss: 0.902390 [12800/60000]\n",
      "loss: 0.936055 [19200/60000]\n",
      "loss: 0.884515 [25600/60000]\n",
      "loss: 1.007741 [32000/60000]\n",
      "loss: 0.868720 [38400/60000]\n",
      "loss: 1.034045 [44800/60000]\n",
      "loss: 1.114149 [51200/60000]\n",
      "loss: 0.727476 [57600/60000]\n",
      "Test Error: \n",
      " Accuracy: 70.1%, Avg loss: 0.014723 \n",
      "\n",
      "Epoch 30\n",
      " ----\n",
      "loss: 1.032171 [    0/60000]\n",
      "loss: 1.138919 [ 6400/60000]\n",
      "loss: 0.897645 [12800/60000]\n",
      "loss: 0.930340 [19200/60000]\n",
      "loss: 0.879847 [25600/60000]\n",
      "loss: 1.003664 [32000/60000]\n",
      "loss: 0.861712 [38400/60000]\n",
      "loss: 1.031160 [44800/60000]\n",
      "loss: 1.111769 [51200/60000]\n",
      "loss: 0.720259 [57600/60000]\n",
      "Test Error: \n",
      " Accuracy: 70.3%, Avg loss: 0.014643 \n",
      "\n",
      "Done !!!\n"
     ]
    }
   ],
   "source": [
    "epochs = 30\n",
    "for t in range(epochs):\n",
    "    print(f\"Epoch {t+1}\\n ----\")\n",
    "    train(train_dataloader, model, loss_fn, optimizer)\n",
    "    test(test_dataloader, model)\n",
    "    \n",
    "print(\"Done !!!\")    "
   ]
  },
  {
   "cell_type": "code",
   "execution_count": 25,
   "id": "3218f984",
   "metadata": {},
   "outputs": [
    {
     "name": "stdout",
     "output_type": "stream",
     "text": [
      "Saved PyTorch Model State to model.pth\n"
     ]
    }
   ],
   "source": [
    "torch.save(model.state_dict(), \"data/model.pth\")\n",
    "print(\"Saved PyTorch Model State to model.pth\")"
   ]
  },
  {
   "cell_type": "code",
   "execution_count": 26,
   "id": "588a3c06",
   "metadata": {},
   "outputs": [
    {
     "data": {
      "text/plain": [
       "<All keys matched successfully>"
      ]
     },
     "execution_count": 26,
     "metadata": {},
     "output_type": "execute_result"
    }
   ],
   "source": [
    "model = NeuralNetwork()\n",
    "model.load_state_dict(torch.load(\"data/model.pth\"))"
   ]
  },
  {
   "cell_type": "code",
   "execution_count": 27,
   "id": "59e5184b",
   "metadata": {},
   "outputs": [],
   "source": [
    "classes = [\n",
    "    \"T-shirt/top\",\n",
    "    \"Trouser\",\n",
    "    \"Pullover\",\n",
    "    \"Dress\",\n",
    "    \"Coat\",\n",
    "    \"Sandal\",\n",
    "    \"Shirt\",\n",
    "    \"Sneaker\",\n",
    "    \"Bag\",\n",
    "    \"Ankle boot\",\n",
    "]"
   ]
  },
  {
   "cell_type": "code",
   "execution_count": 28,
   "id": "ac19d6bc",
   "metadata": {},
   "outputs": [
    {
     "name": "stdout",
     "output_type": "stream",
     "text": [
      "Predicted: \"Ankle boot\", Actual: \"Ankle boot\"\n"
     ]
    }
   ],
   "source": [
    "model.eval()\n",
    "x, y = test_data[0][0], test_data[0][1]\n",
    "with torch.no_grad():\n",
    "    pred = model(x)\n",
    "    predicted, actual = classes[pred[0].argmax(0)], classes[y]\n",
    "    print(f'Predicted: \"{predicted}\", Actual: \"{actual}\"')"
   ]
  },
  {
   "cell_type": "code",
   "execution_count": 29,
   "id": "fd3a975d",
   "metadata": {},
   "outputs": [],
   "source": [
    "import torch.onnx as onnx\n",
    "import onnxruntime"
   ]
  },
  {
   "cell_type": "code",
   "execution_count": 30,
   "id": "812e4881",
   "metadata": {},
   "outputs": [],
   "source": [
    "input_image = torch.zeros((1,28,28))\n",
    "onnx_model = 'data/model.onnx'\n",
    "onnx.export(model, input_image, onnx_model)"
   ]
  },
  {
   "cell_type": "code",
   "execution_count": 53,
   "id": "e22a96b2",
   "metadata": {},
   "outputs": [],
   "source": [
    "test_data = datasets.FashionMNIST(\n",
    "    root=\"data\",\n",
    "    train=False,\n",
    "    download=True,\n",
    "    transform=ToTensor()\n",
    ")\n",
    "\n",
    "classes = [\n",
    "    \"T-shirt/top\",\n",
    "    \"Trouser\",\n",
    "    \"Pullover\",\n",
    "    \"Dress\",\n",
    "    \"Coat\",\n",
    "    \"Sandal\",\n",
    "    \"Shirt\",\n",
    "    \"Sneaker\",\n",
    "    \"Bag\",\n",
    "    \"Ankle boot\",\n",
    "]\n",
    "x, y = test_data[5][0], test_data[5][1]"
   ]
  },
  {
   "cell_type": "code",
   "execution_count": 54,
   "id": "8f2e8652",
   "metadata": {},
   "outputs": [
    {
     "name": "stdout",
     "output_type": "stream",
     "text": [
      "Predicted: \"Trouser\", Actual: \"Trouser\"\n"
     ]
    }
   ],
   "source": [
    "session = onnxruntime.InferenceSession(onnx_model, None)\n",
    "input_name = session.get_inputs()[0].name\n",
    "output_name = session.get_outputs()[0].name\n",
    "\n",
    "#result = session.run([output_name], {input_name: x.numpy()})\n",
    "result = session.run([], {input_name: x.numpy()})\n",
    "predicted, actual = classes[result[0][0].argmax(0)], classes[y]\n",
    "print(f'Predicted: \"{predicted}\", Actual: \"{actual}\"')"
   ]
  },
  {
   "cell_type": "code",
   "execution_count": 55,
   "id": "dcceafc7",
   "metadata": {},
   "outputs": [
    {
     "data": {
      "text/plain": [
       "'Pullover'"
      ]
     },
     "execution_count": 55,
     "metadata": {},
     "output_type": "execute_result"
    }
   ],
   "source": []
  },
  {
   "cell_type": "code",
   "execution_count": 56,
   "id": "3a0b9755",
   "metadata": {},
   "outputs": [
    {
     "data": {
      "text/plain": [
       "'13'"
      ]
     },
     "execution_count": 56,
     "metadata": {},
     "output_type": "execute_result"
    }
   ],
   "source": []
  },
  {
   "cell_type": "code",
   "execution_count": 39,
   "id": "5517cb48",
   "metadata": {},
   "outputs": [
    {
     "data": {
      "text/plain": [
       "[array([[0.       , 0.       , 0.       , 0.       , 0.       , 7.4080124,\n",
       "         0.       , 7.8215947, 3.6023872, 8.596039 ]], dtype=float32)]"
      ]
     },
     "execution_count": 39,
     "metadata": {},
     "output_type": "execute_result"
    }
   ],
   "source": []
  },
  {
   "cell_type": "code",
   "execution_count": 40,
   "id": "41cf083f",
   "metadata": {},
   "outputs": [
    {
     "data": {
      "text/plain": [
       "array([0.       , 0.       , 0.       , 0.       , 0.       , 7.4080124,\n",
       "       0.       , 7.8215947, 3.6023872, 8.596039 ], dtype=float32)"
      ]
     },
     "execution_count": 40,
     "metadata": {},
     "output_type": "execute_result"
    }
   ],
   "source": []
  },
  {
   "cell_type": "code",
   "execution_count": null,
   "id": "a5c97e6c",
   "metadata": {},
   "outputs": [],
   "source": []
  }
 ],
 "metadata": {
  "kernelspec": {
   "display_name": "Python 3.8 (torch)",
   "language": "python",
   "name": "torch"
  },
  "language_info": {
   "codemirror_mode": {
    "name": "ipython",
    "version": 3
   },
   "file_extension": ".py",
   "mimetype": "text/x-python",
   "name": "python",
   "nbconvert_exporter": "python",
   "pygments_lexer": "ipython3",
   "version": "3.8.5"
  }
 },
 "nbformat": 4,
 "nbformat_minor": 5
}
